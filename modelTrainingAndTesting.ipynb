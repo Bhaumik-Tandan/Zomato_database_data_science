{
 "cells": [
  {
   "cell_type": "code",
   "execution_count": 1,
   "metadata": {},
   "outputs": [],
   "source": [
    "#importing all the libraries and csv file\n",
    "from pandas import *\n",
    "from numpy.random import *\n",
    "from numpy import *\n",
    "import seaborn as sns\n",
    "import matplotlib.pyplot as plt\n",
    "import warnings\n",
    "warnings.filterwarnings('ignore')\n",
    "df= read_csv('CleanedData.csv',engine='python')"
   ]
  },
  {
   "cell_type": "code",
   "execution_count": 2,
   "metadata": {},
   "outputs": [
    {
     "data": {
      "text/html": [
       "<div>\n",
       "<style scoped>\n",
       "    .dataframe tbody tr th:only-of-type {\n",
       "        vertical-align: middle;\n",
       "    }\n",
       "\n",
       "    .dataframe tbody tr th {\n",
       "        vertical-align: top;\n",
       "    }\n",
       "\n",
       "    .dataframe thead th {\n",
       "        text-align: right;\n",
       "    }\n",
       "</style>\n",
       "<table border=\"1\" class=\"dataframe\">\n",
       "  <thead>\n",
       "    <tr style=\"text-align: right;\">\n",
       "      <th></th>\n",
       "      <th>Longitude</th>\n",
       "      <th>Latitude</th>\n",
       "      <th>Average Cost for two</th>\n",
       "      <th>Has Table booking</th>\n",
       "      <th>Has Online delivery</th>\n",
       "      <th>Is delivering now</th>\n",
       "      <th>Switch to order menu</th>\n",
       "      <th>Price range</th>\n",
       "      <th>Rating text</th>\n",
       "      <th>Votes</th>\n",
       "      <th>...</th>\n",
       "      <th>Kebab</th>\n",
       "      <th>Turkish Pizza</th>\n",
       "      <th>Izgara</th>\n",
       "      <th>World Cuisine</th>\n",
       "      <th>Dí_ner</th>\n",
       "      <th>Restaurant Cafe</th>\n",
       "      <th>Bí_rek</th>\n",
       "      <th>Döner</th>\n",
       "      <th>Börek</th>\n",
       "      <th>Fresh Fish</th>\n",
       "    </tr>\n",
       "  </thead>\n",
       "  <tbody>\n",
       "    <tr>\n",
       "      <th>0</th>\n",
       "      <td>121.027535</td>\n",
       "      <td>14.565443</td>\n",
       "      <td>1100</td>\n",
       "      <td>1</td>\n",
       "      <td>0</td>\n",
       "      <td>0</td>\n",
       "      <td>0</td>\n",
       "      <td>3</td>\n",
       "      <td>1</td>\n",
       "      <td>314</td>\n",
       "      <td>...</td>\n",
       "      <td>0.0</td>\n",
       "      <td>0.0</td>\n",
       "      <td>0.0</td>\n",
       "      <td>0.0</td>\n",
       "      <td>0.0</td>\n",
       "      <td>0.0</td>\n",
       "      <td>0.0</td>\n",
       "      <td>0.0</td>\n",
       "      <td>0.0</td>\n",
       "      <td>0.0</td>\n",
       "    </tr>\n",
       "    <tr>\n",
       "      <th>1</th>\n",
       "      <td>121.014101</td>\n",
       "      <td>14.553708</td>\n",
       "      <td>1200</td>\n",
       "      <td>1</td>\n",
       "      <td>0</td>\n",
       "      <td>0</td>\n",
       "      <td>0</td>\n",
       "      <td>3</td>\n",
       "      <td>1</td>\n",
       "      <td>591</td>\n",
       "      <td>...</td>\n",
       "      <td>0.0</td>\n",
       "      <td>0.0</td>\n",
       "      <td>0.0</td>\n",
       "      <td>0.0</td>\n",
       "      <td>0.0</td>\n",
       "      <td>0.0</td>\n",
       "      <td>0.0</td>\n",
       "      <td>0.0</td>\n",
       "      <td>0.0</td>\n",
       "      <td>0.0</td>\n",
       "    </tr>\n",
       "    <tr>\n",
       "      <th>2</th>\n",
       "      <td>121.056831</td>\n",
       "      <td>14.581404</td>\n",
       "      <td>4000</td>\n",
       "      <td>1</td>\n",
       "      <td>0</td>\n",
       "      <td>0</td>\n",
       "      <td>0</td>\n",
       "      <td>4</td>\n",
       "      <td>4</td>\n",
       "      <td>270</td>\n",
       "      <td>...</td>\n",
       "      <td>0.0</td>\n",
       "      <td>0.0</td>\n",
       "      <td>0.0</td>\n",
       "      <td>0.0</td>\n",
       "      <td>0.0</td>\n",
       "      <td>0.0</td>\n",
       "      <td>0.0</td>\n",
       "      <td>0.0</td>\n",
       "      <td>0.0</td>\n",
       "      <td>0.0</td>\n",
       "    </tr>\n",
       "    <tr>\n",
       "      <th>3</th>\n",
       "      <td>121.056475</td>\n",
       "      <td>14.585318</td>\n",
       "      <td>1500</td>\n",
       "      <td>0</td>\n",
       "      <td>0</td>\n",
       "      <td>0</td>\n",
       "      <td>0</td>\n",
       "      <td>4</td>\n",
       "      <td>1</td>\n",
       "      <td>365</td>\n",
       "      <td>...</td>\n",
       "      <td>0.0</td>\n",
       "      <td>0.0</td>\n",
       "      <td>0.0</td>\n",
       "      <td>0.0</td>\n",
       "      <td>0.0</td>\n",
       "      <td>0.0</td>\n",
       "      <td>0.0</td>\n",
       "      <td>0.0</td>\n",
       "      <td>0.0</td>\n",
       "      <td>0.0</td>\n",
       "    </tr>\n",
       "    <tr>\n",
       "      <th>4</th>\n",
       "      <td>121.057508</td>\n",
       "      <td>14.584450</td>\n",
       "      <td>1500</td>\n",
       "      <td>1</td>\n",
       "      <td>0</td>\n",
       "      <td>0</td>\n",
       "      <td>0</td>\n",
       "      <td>4</td>\n",
       "      <td>1</td>\n",
       "      <td>229</td>\n",
       "      <td>...</td>\n",
       "      <td>0.0</td>\n",
       "      <td>0.0</td>\n",
       "      <td>0.0</td>\n",
       "      <td>0.0</td>\n",
       "      <td>0.0</td>\n",
       "      <td>0.0</td>\n",
       "      <td>0.0</td>\n",
       "      <td>0.0</td>\n",
       "      <td>0.0</td>\n",
       "      <td>0.0</td>\n",
       "    </tr>\n",
       "  </tbody>\n",
       "</table>\n",
       "<p>5 rows × 158 columns</p>\n",
       "</div>"
      ],
      "text/plain": [
       "    Longitude   Latitude  Average Cost for two  Has Table booking  \\\n",
       "0  121.027535  14.565443                  1100                  1   \n",
       "1  121.014101  14.553708                  1200                  1   \n",
       "2  121.056831  14.581404                  4000                  1   \n",
       "3  121.056475  14.585318                  1500                  0   \n",
       "4  121.057508  14.584450                  1500                  1   \n",
       "\n",
       "   Has Online delivery  Is delivering now  Switch to order menu  Price range  \\\n",
       "0                    0                  0                     0            3   \n",
       "1                    0                  0                     0            3   \n",
       "2                    0                  0                     0            4   \n",
       "3                    0                  0                     0            4   \n",
       "4                    0                  0                     0            4   \n",
       "\n",
       "   Rating text  Votes  ...  Kebab  Turkish Pizza  Izgara  World Cuisine  \\\n",
       "0            1    314  ...    0.0            0.0     0.0            0.0   \n",
       "1            1    591  ...    0.0            0.0     0.0            0.0   \n",
       "2            4    270  ...    0.0            0.0     0.0            0.0   \n",
       "3            1    365  ...    0.0            0.0     0.0            0.0   \n",
       "4            1    229  ...    0.0            0.0     0.0            0.0   \n",
       "\n",
       "   Dí_ner  Restaurant Cafe  Bí_rek  Döner  Börek  Fresh Fish  \n",
       "0     0.0              0.0     0.0    0.0    0.0         0.0  \n",
       "1     0.0              0.0     0.0    0.0    0.0         0.0  \n",
       "2     0.0              0.0     0.0    0.0    0.0         0.0  \n",
       "3     0.0              0.0     0.0    0.0    0.0         0.0  \n",
       "4     0.0              0.0     0.0    0.0    0.0         0.0  \n",
       "\n",
       "[5 rows x 158 columns]"
      ]
     },
     "execution_count": 2,
     "metadata": {},
     "output_type": "execute_result"
    }
   ],
   "source": [
    "df.head()"
   ]
  },
  {
   "cell_type": "code",
   "execution_count": 3,
   "metadata": {},
   "outputs": [
    {
     "name": "stdout",
     "output_type": "stream",
     "text": [
      "<class 'pandas.core.frame.DataFrame'>\n",
      "RangeIndex: 39304 entries, 0 to 39303\n",
      "Columns: 158 entries, Longitude to Fresh Fish\n",
      "dtypes: float64(150), int64(8)\n",
      "memory usage: 47.4 MB\n"
     ]
    }
   ],
   "source": [
    "df.info()"
   ]
  },
  {
   "cell_type": "code",
   "execution_count": 4,
   "metadata": {},
   "outputs": [
    {
     "name": "stdout",
     "output_type": "stream",
     "text": [
      "0        1\n",
      "1        1\n",
      "2        4\n",
      "3        1\n",
      "4        1\n",
      "        ..\n",
      "39299    2\n",
      "39300    2\n",
      "39301    2\n",
      "39302    2\n",
      "39303    2\n",
      "Name: Rating text, Length: 39304, dtype: int64\n"
     ]
    }
   ],
   "source": [
    "y=df['Rating text'] \n",
    "X=df.drop([\"Rating text\"], axis=1) \n",
    "print(y)"
   ]
  },
  {
   "cell_type": "code",
   "execution_count": 5,
   "metadata": {},
   "outputs": [
    {
     "data": {
      "text/plain": [
       "16432    2\n",
       "14397    4\n",
       "20117    4\n",
       "23753    2\n",
       "23133    0\n",
       "        ..\n",
       "26628    0\n",
       "36633    0\n",
       "12954    4\n",
       "28237    2\n",
       "22159    0\n",
       "Name: Rating text, Length: 11792, dtype: int64"
      ]
     },
     "execution_count": 5,
     "metadata": {},
     "output_type": "execute_result"
    }
   ],
   "source": [
    "from sklearn.model_selection import  train_test_split\n",
    "x_train, x_test, y_train, y_test = train_test_split(X,y, test_size=0.3, random_state=0)\n",
    "y_test"
   ]
  },
  {
   "cell_type": "code",
   "execution_count": 6,
   "metadata": {},
   "outputs": [
    {
     "name": "stdout",
     "output_type": "stream",
     "text": [
      "K-NN:\n",
      " Accuracy: 85.78697421981005%\n"
     ]
    }
   ],
   "source": [
    "#PART THREE: TESTING DIFFERENT CLASSIFIERS\n",
    "\n",
    "#-----------------------------------K-NN --------------------------------------------------\n",
    "\n",
    "# Fitting K-NN to the Training set\n",
    "from sklearn.neighbors import KNeighborsClassifier\n",
    "classifier = KNeighborsClassifier(n_neighbors = 9, metric = 'minkowski', p = 2)\n",
    "\n",
    "classifier.fit(x_train,y_train)\n",
    "knn_score=classifier.score(x_test,y_test)\n",
    "print(f\"K-NN:\\n Accuracy: {knn_score*100}%\")"
   ]
  },
  {
   "cell_type": "code",
   "execution_count": 7,
   "metadata": {},
   "outputs": [
    {
     "name": "stdout",
     "output_type": "stream",
     "text": [
      "Logistic Regression:\n",
      " Accuracy: 53.67198100407056%\n"
     ]
    }
   ],
   "source": [
    "#-----------------------Logistic Regression---------------------------------------------\n",
    "# Fitting Logistic Regression to the Training set\n",
    "from sklearn.linear_model import LogisticRegression\n",
    "classifier = LogisticRegression(penalty='l2',random_state = 0)\n",
    "\n",
    "classifier.fit(x_train,y_train)\n",
    "lr_score=classifier.score(x_test,y_test)\n",
    "print(f\"Logistic Regression:\\n Accuracy: {lr_score*100}%\")"
   ]
  },
  {
   "cell_type": "code",
   "execution_count": 8,
   "metadata": {},
   "outputs": [
    {
     "name": "stdout",
     "output_type": "stream",
     "text": [
      "SVM:\n",
      " Accuracy: 52.1370420624152%\n"
     ]
    }
   ],
   "source": [
    "# Fitting SVM to the Training set\n",
    "from sklearn.svm import SVC\n",
    "classifier = SVC(kernel = 'rbf', random_state = 0)\n",
    "\n",
    "classifier.fit(x_train,y_train)\n",
    "svm_score=classifier.score(x_test,y_test)\n",
    "print(f\"SVM:\\n Accuracy: {svm_score*100}%\")"
   ]
  },
  {
   "cell_type": "code",
   "execution_count": 9,
   "metadata": {},
   "outputs": [
    {
     "name": "stdout",
     "output_type": "stream",
     "text": [
      "Naive Bayes:\n",
      " Accuracy: 50.703867028493896%\n"
     ]
    }
   ],
   "source": [
    "#---------------------------------Naive Bayes-------------------------------------------\n",
    "\n",
    "# Fitting Naive Bayes to the Training set\n",
    "from sklearn.naive_bayes import GaussianNB\n",
    "classifier = GaussianNB()\n",
    "\n",
    "classifier.fit(x_train,y_train)\n",
    "nb_score=classifier.score(x_test,y_test)\n",
    "print(f\"Naive Bayes:\\n Accuracy: {nb_score*100}%\")"
   ]
  },
  {
   "cell_type": "code",
   "execution_count": null,
   "metadata": {},
   "outputs": [],
   "source": [
    "#----------------------------Random Forest------------------------------------------\n",
    "\n",
    "# Fitting Random Forest Classification to the Training set\n",
    "from sklearn.ensemble import RandomForestClassifier\n",
    "classifier = RandomForestClassifier(n_estimators = 100, criterion = 'entropy', random_state = 0)\n",
    "\n",
    "classifier.fit(x_train,y_train)\n",
    "rf_score=classifier.score(x_test,y_test)\n",
    "print(f\"Random Forest:\\n Accuracy: {rf_score*100}%\")"
   ]
  },
  {
   "cell_type": "code",
   "execution_count": null,
   "metadata": {},
   "outputs": [],
   "source": [
    "# Build the plot\n",
    "n=arange(len([\"K-NN\",\"Logistic Regression\",\"SVM\",\"Naive Bayes\",\"Random Forest\"]))\n",
    "acr=[knn_score,lr_score,svm_score,nb_score,rf_score]\n",
    "for i in range(len(acr)):\n",
    "    acr[i]*=100\n",
    "fig, ax = plt.subplots()\n",
    "ax.bar(n, acr, align='center', alpha=0.5, ecolor='black', capsize=10)\n",
    "ax.set_ylabel('ACCURACY of algorithms')\n",
    "ax.set_xticks(n)\n",
    "ax.set_xticklabels([\"K-NN\",\"Logistic Regression\",\"SVM\",\"Naive Bayes\",\"Random Forest\"])\n",
    "ax.set_title('RESULT')\n",
    "ax.yaxis.grid(True)\n",
    "\n",
    "# Save the figure and show\n",
    "plt.tight_layout()\n",
    "plt.savefig('bar_plot_with_error_bars.png')\n",
    "plt.show()"
   ]
  }
 ],
 "metadata": {
  "kernelspec": {
   "display_name": "Python 3",
   "language": "python",
   "name": "python3"
  },
  "language_info": {
   "codemirror_mode": {
    "name": "ipython",
    "version": 3
   },
   "file_extension": ".py",
   "mimetype": "text/x-python",
   "name": "python",
   "nbconvert_exporter": "python",
   "pygments_lexer": "ipython3",
   "version": "3.8.5"
  }
 },
 "nbformat": 4,
 "nbformat_minor": 4
}
