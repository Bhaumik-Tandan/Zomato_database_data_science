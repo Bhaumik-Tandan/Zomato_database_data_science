{
 "cells": [
  {
   "cell_type": "code",
   "execution_count": 1,
   "metadata": {},
   "outputs": [],
   "source": [
    "#importing all the libraries and csv file\n",
    "from pandas import *\n",
    "from numpy.random import *\n",
    "from numpy import *\n",
    "import seaborn as sns\n",
    "import matplotlib.pyplot as plt\n",
    "import warnings\n",
    "warnings.filterwarnings('ignore')\n",
    "df= read_csv('DataWarehouse.csv',engine='python')"
   ]
  },
  {
   "cell_type": "code",
   "execution_count": 2,
   "metadata": {},
   "outputs": [],
   "source": [
    "#genrating mask in order to split the data here a boolean numpy array will be genrated \n",
    "#this will fix the randomess each time we will run the code\n",
    "seed(0)\n",
    "msk = rand(len(df)) <= 0.7        "
   ]
  },
  {
   "cell_type": "code",
   "execution_count": 3,
   "metadata": {},
   "outputs": [
    {
     "name": "stdout",
     "output_type": "stream",
     "text": [
      "<class 'pandas.core.frame.DataFrame'>\n",
      "Int64Index: 27618 entries, 0 to 39303\n",
      "Data columns (total 19 columns):\n",
      " #   Column                Non-Null Count  Dtype  \n",
      "---  ------                --------------  -----  \n",
      " 0   Restaurant Name       27618 non-null  object \n",
      " 1   City                  27618 non-null  object \n",
      " 2   Address               27618 non-null  object \n",
      " 3   Locality              27618 non-null  object \n",
      " 4   Longitude             27618 non-null  float64\n",
      " 5   Latitude              27618 non-null  float64\n",
      " 6   Cuisines              27476 non-null  object \n",
      " 7   Average Cost for two  27618 non-null  int64  \n",
      " 8   Currency              27603 non-null  object \n",
      " 9   Has Table booking     27618 non-null  object \n",
      " 10  Has Online delivery   27618 non-null  object \n",
      " 11  Is delivering now     27618 non-null  object \n",
      " 12  Switch to order menu  27618 non-null  object \n",
      " 13  Price range           27618 non-null  int64  \n",
      " 14  Aggregate rating      27618 non-null  float64\n",
      " 15  Rating color          27618 non-null  object \n",
      " 16  Rating text           27618 non-null  object \n",
      " 17  Votes                 27618 non-null  int64  \n",
      " 18  Country               27603 non-null  object \n",
      "dtypes: float64(3), int64(3), object(13)\n",
      "memory usage: 4.2+ MB\n"
     ]
    }
   ],
   "source": [
    "#splitting the dataset into 70-30 for train and test respectively \n",
    "train=df[msk]\n",
    "test = df[~msk]\n",
    "train.info()"
   ]
  },
  {
   "cell_type": "code",
   "execution_count": 6,
   "metadata": {},
   "outputs": [
    {
     "ename": "TypeError",
     "evalue": "'<' not supported between instances of 'float' and 'str'",
     "output_type": "error",
     "traceback": [
      "\u001b[1;31m---------------------------------------------------------------------------\u001b[0m",
      "\u001b[1;31mTypeError\u001b[0m                                 Traceback (most recent call last)",
      "\u001b[1;32m<ipython-input-6-d0122be58226>\u001b[0m in \u001b[0;36m<module>\u001b[1;34m\u001b[0m\n\u001b[0;32m     10\u001b[0m \u001b[1;33m\u001b[0m\u001b[0m\n\u001b[0;32m     11\u001b[0m \u001b[1;31m#display distinct contry codes\u001b[0m\u001b[1;33m\u001b[0m\u001b[1;33m\u001b[0m\u001b[1;33m\u001b[0m\u001b[0m\n\u001b[1;32m---> 12\u001b[1;33m \u001b[0msort\u001b[0m\u001b[1;33m(\u001b[0m\u001b[0mdf\u001b[0m\u001b[1;33m[\u001b[0m\u001b[1;34m\"Country\"\u001b[0m\u001b[1;33m]\u001b[0m\u001b[1;33m.\u001b[0m\u001b[0munique\u001b[0m\u001b[1;33m(\u001b[0m\u001b[1;33m)\u001b[0m\u001b[1;33m)\u001b[0m\u001b[1;33m\u001b[0m\u001b[1;33m\u001b[0m\u001b[0m\n\u001b[0m",
      "\u001b[1;32m<__array_function__ internals>\u001b[0m in \u001b[0;36msort\u001b[1;34m(*args, **kwargs)\u001b[0m\n",
      "\u001b[1;32mD:\\app\\anacond\\lib\\site-packages\\numpy\\core\\fromnumeric.py\u001b[0m in \u001b[0;36msort\u001b[1;34m(a, axis, kind, order)\u001b[0m\n\u001b[0;32m    989\u001b[0m     \u001b[1;32melse\u001b[0m\u001b[1;33m:\u001b[0m\u001b[1;33m\u001b[0m\u001b[1;33m\u001b[0m\u001b[0m\n\u001b[0;32m    990\u001b[0m         \u001b[0ma\u001b[0m \u001b[1;33m=\u001b[0m \u001b[0masanyarray\u001b[0m\u001b[1;33m(\u001b[0m\u001b[0ma\u001b[0m\u001b[1;33m)\u001b[0m\u001b[1;33m.\u001b[0m\u001b[0mcopy\u001b[0m\u001b[1;33m(\u001b[0m\u001b[0morder\u001b[0m\u001b[1;33m=\u001b[0m\u001b[1;34m\"K\"\u001b[0m\u001b[1;33m)\u001b[0m\u001b[1;33m\u001b[0m\u001b[1;33m\u001b[0m\u001b[0m\n\u001b[1;32m--> 991\u001b[1;33m     \u001b[0ma\u001b[0m\u001b[1;33m.\u001b[0m\u001b[0msort\u001b[0m\u001b[1;33m(\u001b[0m\u001b[0maxis\u001b[0m\u001b[1;33m=\u001b[0m\u001b[0maxis\u001b[0m\u001b[1;33m,\u001b[0m \u001b[0mkind\u001b[0m\u001b[1;33m=\u001b[0m\u001b[0mkind\u001b[0m\u001b[1;33m,\u001b[0m \u001b[0morder\u001b[0m\u001b[1;33m=\u001b[0m\u001b[0morder\u001b[0m\u001b[1;33m)\u001b[0m\u001b[1;33m\u001b[0m\u001b[1;33m\u001b[0m\u001b[0m\n\u001b[0m\u001b[0;32m    992\u001b[0m     \u001b[1;32mreturn\u001b[0m \u001b[0ma\u001b[0m\u001b[1;33m\u001b[0m\u001b[1;33m\u001b[0m\u001b[0m\n\u001b[0;32m    993\u001b[0m \u001b[1;33m\u001b[0m\u001b[0m\n",
      "\u001b[1;31mTypeError\u001b[0m: '<' not supported between instances of 'float' and 'str'"
     ]
    }
   ],
   "source": [
    "#Sorting the ratings of restaurants by country code\n",
    "#We are rating the restraunts of a certain country code \n",
    "e =  train[train['Rating text']=='Excellent']['Country'].value_counts()\n",
    "vg = train[train['Rating text']=='Very Good']['Country'].value_counts()\n",
    "gr = train[train['Rating text']=='Good']['Country'].value_counts()\n",
    "ar = train[train['Rating text']=='Average']['Country'].value_counts()\n",
    "pr = train[train['Rating text']=='Poor']['Country'].value_counts()\n",
    "nr = train[train['Rating text']=='Not rated']['Country'].value_counts()\n",
    "\n",
    "\n",
    "#display distinct contry codes\n",
    "sort(df[\"Country\"].unique())"
   ]
  },
  {
   "cell_type": "code",
   "execution_count": 5,
   "metadata": {},
   "outputs": [
    {
     "data": {
      "text/html": [
       "<div>\n",
       "<style scoped>\n",
       "    .dataframe tbody tr th:only-of-type {\n",
       "        vertical-align: middle;\n",
       "    }\n",
       "\n",
       "    .dataframe tbody tr th {\n",
       "        vertical-align: top;\n",
       "    }\n",
       "\n",
       "    .dataframe thead th {\n",
       "        text-align: right;\n",
       "    }\n",
       "</style>\n",
       "<table border=\"1\" class=\"dataframe\">\n",
       "  <thead>\n",
       "    <tr style=\"text-align: right;\">\n",
       "      <th></th>\n",
       "      <th>1</th>\n",
       "      <th>14</th>\n",
       "      <th>30</th>\n",
       "      <th>37</th>\n",
       "      <th>94</th>\n",
       "      <th>148</th>\n",
       "      <th>162</th>\n",
       "      <th>166</th>\n",
       "      <th>184</th>\n",
       "      <th>189</th>\n",
       "      <th>191</th>\n",
       "      <th>208</th>\n",
       "      <th>214</th>\n",
       "      <th>215</th>\n",
       "      <th>216</th>\n",
       "    </tr>\n",
       "  </thead>\n",
       "  <tbody>\n",
       "    <tr>\n",
       "      <th>Excellent</th>\n",
       "      <td>73.0</td>\n",
       "      <td>0.0</td>\n",
       "      <td>15.0</td>\n",
       "      <td>0.0</td>\n",
       "      <td>4.0</td>\n",
       "      <td>7.0</td>\n",
       "      <td>5.0</td>\n",
       "      <td>2.0</td>\n",
       "      <td>0.0</td>\n",
       "      <td>8.0</td>\n",
       "      <td>2.0</td>\n",
       "      <td>5.0</td>\n",
       "      <td>10.0</td>\n",
       "      <td>17.0</td>\n",
       "      <td>54.0</td>\n",
       "    </tr>\n",
       "    <tr>\n",
       "      <th>Very Good</th>\n",
       "      <td>495.0</td>\n",
       "      <td>5.0</td>\n",
       "      <td>16.0</td>\n",
       "      <td>1.0</td>\n",
       "      <td>6.0</td>\n",
       "      <td>15.0</td>\n",
       "      <td>6.0</td>\n",
       "      <td>6.0</td>\n",
       "      <td>2.0</td>\n",
       "      <td>27.0</td>\n",
       "      <td>7.0</td>\n",
       "      <td>14.0</td>\n",
       "      <td>23.0</td>\n",
       "      <td>25.0</td>\n",
       "      <td>128.0</td>\n",
       "    </tr>\n",
       "    <tr>\n",
       "      <th>Good</th>\n",
       "      <td>1299.0</td>\n",
       "      <td>8.0</td>\n",
       "      <td>9.0</td>\n",
       "      <td>1.0</td>\n",
       "      <td>1.0</td>\n",
       "      <td>2.0</td>\n",
       "      <td>1.0</td>\n",
       "      <td>4.0</td>\n",
       "      <td>4.0</td>\n",
       "      <td>10.0</td>\n",
       "      <td>4.0</td>\n",
       "      <td>1.0</td>\n",
       "      <td>9.0</td>\n",
       "      <td>12.0</td>\n",
       "      <td>114.0</td>\n",
       "    </tr>\n",
       "    <tr>\n",
       "      <th>Average</th>\n",
       "      <td>2585.0</td>\n",
       "      <td>2.0</td>\n",
       "      <td>5.0</td>\n",
       "      <td>1.0</td>\n",
       "      <td>1.0</td>\n",
       "      <td>0.0</td>\n",
       "      <td>0.0</td>\n",
       "      <td>2.0</td>\n",
       "      <td>6.0</td>\n",
       "      <td>0.0</td>\n",
       "      <td>2.0</td>\n",
       "      <td>1.0</td>\n",
       "      <td>0.0</td>\n",
       "      <td>3.0</td>\n",
       "      <td>16.0</td>\n",
       "    </tr>\n",
       "    <tr>\n",
       "      <th>Poor</th>\n",
       "      <td>120.0</td>\n",
       "      <td>1.0</td>\n",
       "      <td>0.0</td>\n",
       "      <td>0.0</td>\n",
       "      <td>0.0</td>\n",
       "      <td>0.0</td>\n",
       "      <td>0.0</td>\n",
       "      <td>0.0</td>\n",
       "      <td>0.0</td>\n",
       "      <td>0.0</td>\n",
       "      <td>1.0</td>\n",
       "      <td>0.0</td>\n",
       "      <td>1.0</td>\n",
       "      <td>0.0</td>\n",
       "      <td>1.0</td>\n",
       "    </tr>\n",
       "    <tr>\n",
       "      <th>Not rated</th>\n",
       "      <td>1517.0</td>\n",
       "      <td>0.0</td>\n",
       "      <td>5.0</td>\n",
       "      <td>0.0</td>\n",
       "      <td>0.0</td>\n",
       "      <td>0.0</td>\n",
       "      <td>0.0</td>\n",
       "      <td>0.0</td>\n",
       "      <td>0.0</td>\n",
       "      <td>0.0</td>\n",
       "      <td>0.0</td>\n",
       "      <td>0.0</td>\n",
       "      <td>0.0</td>\n",
       "      <td>0.0</td>\n",
       "      <td>3.0</td>\n",
       "    </tr>\n",
       "  </tbody>\n",
       "</table>\n",
       "</div>"
      ],
      "text/plain": [
       "              1    14    30   37   94    148  162  166  184   189  191   208  \\\n",
       "Excellent    73.0  0.0  15.0  0.0  4.0   7.0  5.0  2.0  0.0   8.0  2.0   5.0   \n",
       "Very Good   495.0  5.0  16.0  1.0  6.0  15.0  6.0  6.0  2.0  27.0  7.0  14.0   \n",
       "Good       1299.0  8.0   9.0  1.0  1.0   2.0  1.0  4.0  4.0  10.0  4.0   1.0   \n",
       "Average    2585.0  2.0   5.0  1.0  1.0   0.0  0.0  2.0  6.0   0.0  2.0   1.0   \n",
       "Poor        120.0  1.0   0.0  0.0  0.0   0.0  0.0  0.0  0.0   0.0  1.0   0.0   \n",
       "Not rated  1517.0  0.0   5.0  0.0  0.0   0.0  0.0  0.0  0.0   0.0  0.0   0.0   \n",
       "\n",
       "            214   215    216  \n",
       "Excellent  10.0  17.0   54.0  \n",
       "Very Good  23.0  25.0  128.0  \n",
       "Good        9.0  12.0  114.0  \n",
       "Average     0.0   3.0   16.0  \n",
       "Poor        1.0   0.0    1.0  \n",
       "Not rated   0.0   0.0    3.0  "
      ]
     },
     "execution_count": 5,
     "metadata": {},
     "output_type": "execute_result"
    }
   ],
   "source": [
    "dfr = DataFrame([e,vg,gr,ar, pr,nr])\n",
    "dfr.index = ['Excellent','Very Good','Good','Average','Poor','Not rated']\n",
    "dfr.fillna(0) #while displaying replaces all null values with 0"
   ]
  },
  {
   "cell_type": "code",
   "execution_count": 6,
   "metadata": {},
   "outputs": [
    {
     "data": {
      "text/html": [
       "<div>\n",
       "<style scoped>\n",
       "    .dataframe tbody tr th:only-of-type {\n",
       "        vertical-align: middle;\n",
       "    }\n",
       "\n",
       "    .dataframe tbody tr th {\n",
       "        vertical-align: top;\n",
       "    }\n",
       "\n",
       "    .dataframe thead th {\n",
       "        text-align: right;\n",
       "    }\n",
       "</style>\n",
       "<table border=\"1\" class=\"dataframe\">\n",
       "  <thead>\n",
       "    <tr style=\"text-align: right;\">\n",
       "      <th></th>\n",
       "      <th>1</th>\n",
       "      <th>14</th>\n",
       "      <th>30</th>\n",
       "      <th>37</th>\n",
       "      <th>94</th>\n",
       "      <th>148</th>\n",
       "      <th>162</th>\n",
       "      <th>166</th>\n",
       "      <th>184</th>\n",
       "      <th>189</th>\n",
       "      <th>191</th>\n",
       "      <th>208</th>\n",
       "      <th>214</th>\n",
       "      <th>215</th>\n",
       "      <th>216</th>\n",
       "    </tr>\n",
       "  </thead>\n",
       "  <tbody>\n",
       "    <tr>\n",
       "      <th>count</th>\n",
       "      <td>6.000000</td>\n",
       "      <td>4.000000</td>\n",
       "      <td>5.000000</td>\n",
       "      <td>3.0</td>\n",
       "      <td>4.00000</td>\n",
       "      <td>3.000000</td>\n",
       "      <td>3.000000</td>\n",
       "      <td>4.000000</td>\n",
       "      <td>3.0</td>\n",
       "      <td>3.000000</td>\n",
       "      <td>5.000000</td>\n",
       "      <td>4.000000</td>\n",
       "      <td>4.000000</td>\n",
       "      <td>4.000000</td>\n",
       "      <td>6.000000</td>\n",
       "    </tr>\n",
       "    <tr>\n",
       "      <th>mean</th>\n",
       "      <td>1014.833333</td>\n",
       "      <td>4.000000</td>\n",
       "      <td>10.000000</td>\n",
       "      <td>1.0</td>\n",
       "      <td>3.00000</td>\n",
       "      <td>8.000000</td>\n",
       "      <td>4.000000</td>\n",
       "      <td>3.500000</td>\n",
       "      <td>4.0</td>\n",
       "      <td>15.000000</td>\n",
       "      <td>3.200000</td>\n",
       "      <td>5.250000</td>\n",
       "      <td>10.750000</td>\n",
       "      <td>14.250000</td>\n",
       "      <td>52.666667</td>\n",
       "    </tr>\n",
       "    <tr>\n",
       "      <th>std</th>\n",
       "      <td>975.330594</td>\n",
       "      <td>3.162278</td>\n",
       "      <td>5.291503</td>\n",
       "      <td>0.0</td>\n",
       "      <td>2.44949</td>\n",
       "      <td>6.557439</td>\n",
       "      <td>2.645751</td>\n",
       "      <td>1.914854</td>\n",
       "      <td>2.0</td>\n",
       "      <td>10.440307</td>\n",
       "      <td>2.387467</td>\n",
       "      <td>6.130525</td>\n",
       "      <td>9.105859</td>\n",
       "      <td>9.215024</td>\n",
       "      <td>56.425762</td>\n",
       "    </tr>\n",
       "    <tr>\n",
       "      <th>min</th>\n",
       "      <td>73.000000</td>\n",
       "      <td>1.000000</td>\n",
       "      <td>5.000000</td>\n",
       "      <td>1.0</td>\n",
       "      <td>1.00000</td>\n",
       "      <td>2.000000</td>\n",
       "      <td>1.000000</td>\n",
       "      <td>2.000000</td>\n",
       "      <td>2.0</td>\n",
       "      <td>8.000000</td>\n",
       "      <td>1.000000</td>\n",
       "      <td>1.000000</td>\n",
       "      <td>1.000000</td>\n",
       "      <td>3.000000</td>\n",
       "      <td>1.000000</td>\n",
       "    </tr>\n",
       "    <tr>\n",
       "      <th>25%</th>\n",
       "      <td>213.750000</td>\n",
       "      <td>1.750000</td>\n",
       "      <td>5.000000</td>\n",
       "      <td>1.0</td>\n",
       "      <td>1.00000</td>\n",
       "      <td>4.500000</td>\n",
       "      <td>3.000000</td>\n",
       "      <td>2.000000</td>\n",
       "      <td>3.0</td>\n",
       "      <td>9.000000</td>\n",
       "      <td>2.000000</td>\n",
       "      <td>1.000000</td>\n",
       "      <td>7.000000</td>\n",
       "      <td>9.750000</td>\n",
       "      <td>6.250000</td>\n",
       "    </tr>\n",
       "    <tr>\n",
       "      <th>50%</th>\n",
       "      <td>897.000000</td>\n",
       "      <td>3.500000</td>\n",
       "      <td>9.000000</td>\n",
       "      <td>1.0</td>\n",
       "      <td>2.50000</td>\n",
       "      <td>7.000000</td>\n",
       "      <td>5.000000</td>\n",
       "      <td>3.000000</td>\n",
       "      <td>4.0</td>\n",
       "      <td>10.000000</td>\n",
       "      <td>2.000000</td>\n",
       "      <td>3.000000</td>\n",
       "      <td>9.500000</td>\n",
       "      <td>14.500000</td>\n",
       "      <td>35.000000</td>\n",
       "    </tr>\n",
       "    <tr>\n",
       "      <th>75%</th>\n",
       "      <td>1462.500000</td>\n",
       "      <td>5.750000</td>\n",
       "      <td>15.000000</td>\n",
       "      <td>1.0</td>\n",
       "      <td>4.50000</td>\n",
       "      <td>11.000000</td>\n",
       "      <td>5.500000</td>\n",
       "      <td>4.500000</td>\n",
       "      <td>5.0</td>\n",
       "      <td>18.500000</td>\n",
       "      <td>4.000000</td>\n",
       "      <td>7.250000</td>\n",
       "      <td>13.250000</td>\n",
       "      <td>19.000000</td>\n",
       "      <td>99.000000</td>\n",
       "    </tr>\n",
       "    <tr>\n",
       "      <th>max</th>\n",
       "      <td>2585.000000</td>\n",
       "      <td>8.000000</td>\n",
       "      <td>16.000000</td>\n",
       "      <td>1.0</td>\n",
       "      <td>6.00000</td>\n",
       "      <td>15.000000</td>\n",
       "      <td>6.000000</td>\n",
       "      <td>6.000000</td>\n",
       "      <td>6.0</td>\n",
       "      <td>27.000000</td>\n",
       "      <td>7.000000</td>\n",
       "      <td>14.000000</td>\n",
       "      <td>23.000000</td>\n",
       "      <td>25.000000</td>\n",
       "      <td>128.000000</td>\n",
       "    </tr>\n",
       "  </tbody>\n",
       "</table>\n",
       "</div>"
      ],
      "text/plain": [
       "               1         14         30   37       94         148       162  \\\n",
       "count     6.000000  4.000000   5.000000  3.0  4.00000   3.000000  3.000000   \n",
       "mean   1014.833333  4.000000  10.000000  1.0  3.00000   8.000000  4.000000   \n",
       "std     975.330594  3.162278   5.291503  0.0  2.44949   6.557439  2.645751   \n",
       "min      73.000000  1.000000   5.000000  1.0  1.00000   2.000000  1.000000   \n",
       "25%     213.750000  1.750000   5.000000  1.0  1.00000   4.500000  3.000000   \n",
       "50%     897.000000  3.500000   9.000000  1.0  2.50000   7.000000  5.000000   \n",
       "75%    1462.500000  5.750000  15.000000  1.0  4.50000  11.000000  5.500000   \n",
       "max    2585.000000  8.000000  16.000000  1.0  6.00000  15.000000  6.000000   \n",
       "\n",
       "            166  184        189       191        208        214        215  \\\n",
       "count  4.000000  3.0   3.000000  5.000000   4.000000   4.000000   4.000000   \n",
       "mean   3.500000  4.0  15.000000  3.200000   5.250000  10.750000  14.250000   \n",
       "std    1.914854  2.0  10.440307  2.387467   6.130525   9.105859   9.215024   \n",
       "min    2.000000  2.0   8.000000  1.000000   1.000000   1.000000   3.000000   \n",
       "25%    2.000000  3.0   9.000000  2.000000   1.000000   7.000000   9.750000   \n",
       "50%    3.000000  4.0  10.000000  2.000000   3.000000   9.500000  14.500000   \n",
       "75%    4.500000  5.0  18.500000  4.000000   7.250000  13.250000  19.000000   \n",
       "max    6.000000  6.0  27.000000  7.000000  14.000000  23.000000  25.000000   \n",
       "\n",
       "              216  \n",
       "count    6.000000  \n",
       "mean    52.666667  \n",
       "std     56.425762  \n",
       "min      1.000000  \n",
       "25%      6.250000  \n",
       "50%     35.000000  \n",
       "75%     99.000000  \n",
       "max    128.000000  "
      ]
     },
     "execution_count": 6,
     "metadata": {},
     "output_type": "execute_result"
    }
   ],
   "source": [
    "dfr.describe()"
   ]
  },
  {
   "cell_type": "code",
   "execution_count": 7,
   "metadata": {},
   "outputs": [
    {
     "data": {
      "image/png": "[encoded data removed]",
      "text/plain": [
       "<Figure size 576x576 with 1 Axes>"
      ]
     },
     "metadata": {
      "needs_background": "light"
     },
     "output_type": "display_data"
    }
   ],
   "source": [
    "#DATA EXPLORATION AND VISUALISATION \n",
    "dfr.plot(kind='bar',stacked=True, figsize=(8,8), title=\"Rating by Country Code\")\n",
    "plt.show()"
   ]
  },
  {
   "cell_type": "code",
   "execution_count": 8,
   "metadata": {},
   "outputs": [
    {
     "data": {
      "image/png": "[encoded data removed]",
      "text/plain": [
       "<Figure size 432x288 with 1 Axes>"
      ]
     },
     "metadata": {
      "needs_background": "light"
     },
     "output_type": "display_data"
    }
   ],
   "source": [
    "#1.How many Restaurant accepting online orders\n",
    "ax =train['Has Online delivery'].value_counts().plot(kind='bar')\n",
    "plt.title('Number of Restaurants accepting online orders', weight='bold')\n",
    "plt.xlabel('online orders')\n",
    "plt.ylabel('counts')\n",
    "plt.show()"
   ]
  },
  {
   "cell_type": "code",
   "execution_count": 9,
   "metadata": {},
   "outputs": [
    {
     "data": {
      "image/png": "[encoded data removed]",
      "text/plain": [
       "<Figure size 432x288 with 1 Axes>"
      ]
     },
     "metadata": {
      "needs_background": "light"
     },
     "output_type": "display_data"
    }
   ],
   "source": [
    "#How many Restaurant have option to book a table\n",
    "ax =train['Has Table booking'].value_counts().plot(kind='bar')\n",
    "plt.title('Number of Restaurants has book table option', weight='bold')\n",
    "plt.xlabel('book table facility')\n",
    "plt.ylabel('counts')\n",
    "plt.show()"
   ]
  },
  {
   "cell_type": "code",
   "execution_count": 10,
   "metadata": {},
   "outputs": [
    {
     "data": {
      "image/png": "[encoded data removed]",
      "text/plain": [
       "<Figure size 504x504 with 1 Axes>"
      ]
     },
     "metadata": {},
     "output_type": "display_data"
    }
   ],
   "source": [
    "#top 5 cities with most number of restraunts\n",
    "plt.figure(figsize=(7,7))\n",
    "ax =train['City'].value_counts()[:5].plot(kind='pie')\n",
    "plt.title('Location', weight='bold')\n",
    "plt.show()"
   ]
  },
  {
   "cell_type": "code",
   "execution_count": 11,
   "metadata": {},
   "outputs": [
    {
     "data": {
      "image/png": "[encoded data removed]",
      "text/plain": [
       "<Figure size 432x288 with 1 Axes>"
      ]
     },
     "metadata": {},
     "output_type": "display_data"
    }
   ],
   "source": [
    "#Average cost for 2 people to dine\n",
    "values = train['Average Cost for two'].value_counts()[:10]\n",
    "labels = train['Average Cost for two'].value_counts()[:10].index\n",
    "plt.pie(values, labels=labels, autopct='%.2f')\n",
    "plt.title('Average cost for two person(in %) ', weight='bold')\n",
    "plt.show()"
   ]
  },
  {
   "cell_type": "code",
   "execution_count": 12,
   "metadata": {},
   "outputs": [
    {
     "data": {
      "image/png": "[encoded data removed]",
      "text/plain": [
       "<Figure size 864x432 with 1 Axes>"
      ]
     },
     "metadata": {
      "needs_background": "light"
     },
     "output_type": "display_data"
    }
   ],
   "source": [
    "#Rating vs Online orders \n",
    "plt.figure(figsize = (12,6))\n",
    "sns.countplot(x=train['Aggregate rating'], hue = train['Has Online delivery'])\n",
    "plt.ylabel(\"Restaurants that Accept/Not Accepting online orders\")\n",
    "plt.title(\"rate vs oline order\",weight = 'bold')\n",
    "plt.show()"
   ]
  },
  {
   "cell_type": "code",
   "execution_count": 13,
   "metadata": {
    "scrolled": true
   },
   "outputs": [
    {
     "data": {
      "image/png": "[encoded data removed]",
      "text/plain": [
       "<Figure size 432x432 with 1 Axes>"
      ]
     },
     "metadata": {
      "needs_background": "light"
     },
     "output_type": "display_data"
    }
   ],
   "source": [
    "#Displaying the ratings of the restaurants by price range (4 is high; 1 is low)\n",
    "lowest_price = train[train['Price range']== 1]['Rating text'].value_counts()\n",
    "lower_price = train[train['Price range']== 2]['Rating text'].value_counts()\n",
    "higher_price = train[train['Price range']== 3]['Rating text'].value_counts()\n",
    "highest_price = train[train['Price range']== 4]['Rating text'].value_counts()\n",
    "\n",
    "df_price_by_rating = DataFrame([lowest_price,lower_price,higher_price,highest_price])\n",
    "df_price_by_rating.index = ['Lowest Price (1)','Lower Price (2)','Higher Price (3)','Highest Price (4)']\n",
    "df_price_by_rating.plot(kind='bar',stacked=True, figsize=(6,6), title=\"Price by Rating\")\n",
    "plt.show()"
   ]
  },
  {
   "cell_type": "code",
   "execution_count": 14,
   "metadata": {},
   "outputs": [
    {
     "data": {
      "image/png": "[encoded data removed]",
      "text/plain": [
       "<Figure size 432x288 with 1 Axes>"
      ]
     },
     "metadata": {
      "needs_background": "light"
     },
     "output_type": "display_data"
    }
   ],
   "source": [
    "sns.scatterplot(x='Aggregate rating',y='Votes',data=train)\n",
    "plt.show()"
   ]
  },
  {
   "cell_type": "code",
   "execution_count": 15,
   "metadata": {},
   "outputs": [
    {
     "name": "stdout",
     "output_type": "stream",
     "text": [
      "Percentage of restaurants not rated = 23 %\n"
     ]
    }
   ],
   "source": [
    "#Calculating the percentage of restaurants that were not rated:\n",
    "\n",
    "#Total number of restaurants not rated in the training set\n",
    "Number_of_restaurants_nr= dfr.loc['Not rated'].sum()\n",
    "\"\"\"remove double reading\"\"\"\n",
    "#Total number of restaurants in both training and testing\n",
    "with open('zomato.csv',errors='ignore') as f:\n",
    "    total_row_count = sum(1 for row in f)\n",
    "    \n",
    "#Brute force calculation of the number of restaurants in the training set; \n",
    "number_of_restaurants_train= total_row_count * 0.7\n",
    "\n",
    "#Calculating and outputting the percentage\n",
    "Percentage_nr = (Number_of_restaurants_nr/number_of_restaurants_train)*100\n",
    "print(\"Percentage of restaurants not rated =\" ,round(Percentage_nr),\"%\")\n",
    "\n",
    "#23.0% is too large of an amount of data to delete and it shouldn't be ignored as it would reduce the model's predictive power. \n",
    "#we will look for correlations between other features (such as price) and the ratings\n",
    "#to see if I can fill these not rated entries in by similar case imputation."
   ]
  },
  {
   "cell_type": "code",
   "execution_count": 16,
   "metadata": {},
   "outputs": [
    {
     "data": {
      "text/html": [
       "<div>\n",
       "<style scoped>\n",
       "    .dataframe tbody tr th:only-of-type {\n",
       "        vertical-align: middle;\n",
       "    }\n",
       "\n",
       "    .dataframe tbody tr th {\n",
       "        vertical-align: top;\n",
       "    }\n",
       "\n",
       "    .dataframe thead th {\n",
       "        text-align: right;\n",
       "    }\n",
       "</style>\n",
       "<table border=\"1\" class=\"dataframe\">\n",
       "  <thead>\n",
       "    <tr style=\"text-align: right;\">\n",
       "      <th></th>\n",
       "      <th>Price range</th>\n",
       "      <th>Aggregate rating</th>\n",
       "      <th>Votes</th>\n",
       "    </tr>\n",
       "  </thead>\n",
       "  <tbody>\n",
       "    <tr>\n",
       "      <th>0</th>\n",
       "      <td>3</td>\n",
       "      <td>4.8</td>\n",
       "      <td>314</td>\n",
       "    </tr>\n",
       "    <tr>\n",
       "      <th>2</th>\n",
       "      <td>4</td>\n",
       "      <td>4.4</td>\n",
       "      <td>270</td>\n",
       "    </tr>\n",
       "    <tr>\n",
       "      <th>3</th>\n",
       "      <td>4</td>\n",
       "      <td>4.9</td>\n",
       "      <td>365</td>\n",
       "    </tr>\n",
       "    <tr>\n",
       "      <th>4</th>\n",
       "      <td>4</td>\n",
       "      <td>4.8</td>\n",
       "      <td>229</td>\n",
       "    </tr>\n",
       "    <tr>\n",
       "      <th>5</th>\n",
       "      <td>3</td>\n",
       "      <td>4.4</td>\n",
       "      <td>336</td>\n",
       "    </tr>\n",
       "  </tbody>\n",
       "</table>\n",
       "</div>"
      ],
      "text/plain": [
       "   Price range  Aggregate rating  Votes\n",
       "0            3               4.8    314\n",
       "2            4               4.4    270\n",
       "3            4               4.9    365\n",
       "4            4               4.8    229\n",
       "5            3               4.4    336"
      ]
     },
     "execution_count": 16,
     "metadata": {},
     "output_type": "execute_result"
    }
   ],
   "source": [
    "# DATA CLEANING, FEATURE SELECTION \n",
    "\n",
    " \n",
    "# Unneeded features which are to be dropped.\n",
    "\n",
    "X = train.drop(['Restaurant ID','Restaurant Name','Country Code','City', \n",
    "                'Address', 'Locality', 'Locality Verbose','Longitude','Latitude','Cuisines',\n",
    "                'Average Cost for two','Currency','Has Table booking','Has Online delivery',\n",
    "                'Is delivering now','Switch to order menu','Rating color'], axis=1)\n",
    "y = X['Rating text']                       \n",
    "X=X.drop(['Rating text'], axis=1)       #removing the dependent variable (Rating text) from the dataframe X\n",
    "\n",
    "X.head(5)"
   ]
  },
  {
   "cell_type": "code",
   "execution_count": 17,
   "metadata": {},
   "outputs": [
    {
     "name": "stdout",
     "output_type": "stream",
     "text": [
      "3.2426470588235254\n",
      "3.3749096541042887\n",
      "3.425696466940408\n"
     ]
    },
    {
     "data": {
      "image/png": "[encoded data removed]",
      "text/plain": [
       "<Figure size 432x288 with 1 Axes>"
      ]
     },
     "metadata": {
      "needs_background": "light"
     },
     "output_type": "display_data"
    }
   ],
   "source": [
    "# the lowest priced restaurants that are not rated\n",
    "mean_lowest_price = X[X['Price range']== 1]['Aggregate rating'].replace(0.0, nan).mean()\n",
    "print(mean_lowest_price)\n",
    "\n",
    "X[X['Price range']== 1]['Aggregate rating'].replace(0.0,nan, inplace=True)\n",
    "X['Aggregate rating'].replace(nan, mean_lowest_price, inplace=True)\n",
    " \n",
    "#Next the lower priced restaurants that are not rated\n",
    "mean_lower_price = X[X['Price range']== 2]['Aggregate rating'].replace(0, nan).mean()\n",
    "print(mean_lower_price)\n",
    "\n",
    "X['Aggregate rating'].replace(0, mean_lower_price, inplace=True)\n",
    "\n",
    "#Checking\n",
    "print(X['Aggregate rating'].mean())\n",
    "\n",
    "#Checking the new scatterplot, no restaurant has a rating of 0 now.\n",
    "sns.scatterplot(x='Aggregate rating',y='Votes',data=X)\n",
    "\n",
    "#As an aggregate rating of 2.5-3.5 translates to a rating of \"Average\", the \"Not Rated\"\n",
    "#text can be replaced with \"Average\" in the dependent variable.\n",
    "\n",
    "y.replace('Not rated','Average', inplace=True)"
   ]
  },
  {
   "cell_type": "code",
   "execution_count": 18,
   "metadata": {},
   "outputs": [
    {
     "name": "stdout",
     "output_type": "stream",
     "text": [
      "[1 4 1 1 4 4 1 4 1 4 2 4 0 2 2 0 2 2 0 0]\n",
      "0     Excellent\n",
      "2     Very Good\n",
      "3     Excellent\n",
      "4     Excellent\n",
      "5     Very Good\n",
      "6     Very Good\n",
      "9     Excellent\n",
      "11    Very Good\n",
      "12    Excellent\n",
      "14    Very Good\n",
      "15         Good\n",
      "16    Very Good\n",
      "22      Average\n",
      "24         Good\n",
      "25         Good\n",
      "26      Average\n",
      "28         Good\n",
      "29         Good\n",
      "30    Not rated\n",
      "32      Average\n",
      "Name: Rating text, dtype: object\n"
     ]
    }
   ],
   "source": [
    "#As we know, the 'Rating Text' is given as a string. \n",
    "#This needs to be encoded into numeric data so that the algorithm can perform calculations.\n",
    "#This can be done easily using the LabelEncoder tool from sklearn.\n",
    "\n",
    "n_rows = y.shape[0]\n",
    "\n",
    "from sklearn.preprocessing import LabelEncoder\n",
    "labelEncoder_X = LabelEncoder()\n",
    "y=labelEncoder_X.fit_transform(y)\n",
    "\n",
    "print(y[0:20])\n",
    "print(train['Rating text'][0:20])\n",
    "#Shows that excellent = 1, very good = 4, good = 2, average = 0, and assuming poor = 3."
   ]
  },
  {
   "cell_type": "code",
   "execution_count": 19,
   "metadata": {},
   "outputs": [
    {
     "name": "stdout",
     "output_type": "stream",
     "text": [
      "K-NN:\n",
      " Accuracy: 0.75037147102526 +/- 0.02201917807172982 \n",
      "\n",
      "Logistic Regression:\n",
      " Accuracy: 0.6786032689450223 +/- 0.02238759440017886 \n",
      "\n"
     ]
    }
   ],
   "source": [
    "#PART THREE: TESTING DIFFERENT CLASSIFIERS\n",
    "\n",
    "#-----------------------------------K-NN --------------------------------------------------\n",
    "\n",
    "# Fitting K-NN to the Training set\n",
    "from sklearn.neighbors import KNeighborsClassifier\n",
    "classifier = KNeighborsClassifier(n_neighbors = 9, metric = 'minkowski', p = 2)\n",
    "\n",
    "\n",
    "# Applying k-Fold Cross Validation\n",
    "from sklearn.model_selection import cross_val_score\n",
    "accuracies1 = cross_val_score(estimator = classifier, X=X , y=y , cv = 10)\n",
    "print(\"K-NN:\\n Accuracy:\", accuracies1.mean(), \"+/-\", accuracies1.std(),\"\\n\")\n",
    "\n",
    "#-----------------------Logistic Regression---------------------------------------------\n",
    "# Fitting Logistic Regression to the Training set\n",
    "from sklearn.linear_model import LogisticRegression\n",
    "classifier = LogisticRegression(penalty='l2',random_state = 0)\n",
    "\n",
    "# Applying k-Fold Cross Validation\n",
    "from sklearn.model_selection import cross_val_score\n",
    "accuracies2 = cross_val_score(estimator = classifier, X=X , y=y , cv = 10)\n",
    "print(\"Logistic Regression:\\n Accuracy:\", accuracies2.mean(), \"+/-\", accuracies2.std(),\"\\n\")"
   ]
  },
  {
   "cell_type": "code",
   "execution_count": 20,
   "metadata": {},
   "outputs": [
    {
     "name": "stdout",
     "output_type": "stream",
     "text": [
      "SVM:\n",
      " Accuracy: 0.7043090638930163 +/- 0.028325487772153723 \n",
      "\n",
      "Naive Bayes:\n",
      " Accuracy: 0.8986627043090639 +/- 0.02014236339118046 \n",
      "\n",
      "Random Forest:\n",
      " Accuracy: 0.9992570579494799 +/- 0.0013699174527924004\n"
     ]
    }
   ],
   "source": [
    "# Fitting SVM to the Training set\n",
    "from sklearn.svm import SVC\n",
    "classifier = SVC(kernel = 'rbf', random_state = 0)\n",
    "\n",
    "# Applying k-Fold Cross Validation\n",
    "from sklearn.model_selection import cross_val_score\n",
    "accuracies3 = cross_val_score(estimator = classifier, X=X , y=y , cv = 10)\n",
    "print(\"SVM:\\n Accuracy:\", accuracies3.mean(), \"+/-\", accuracies3.std(),\"\\n\")\n",
    "\n",
    "#---------------------------------Naive Bayes-------------------------------------------\n",
    "\n",
    "# Fitting Naive Bayes to the Training set\n",
    "from sklearn.naive_bayes import GaussianNB\n",
    "classifier = GaussianNB()\n",
    "\n",
    "# Applying k-Fold Cross Validation\n",
    "from sklearn.model_selection import cross_val_score\n",
    "accuracies4 = cross_val_score(estimator = classifier, X=X , y=y , cv = 10)\n",
    "print(\"Naive Bayes:\\n Accuracy:\", accuracies4.mean(), \"+/-\", accuracies4.std(),\"\\n\")\n",
    "\n",
    "#----------------------------Random Forest------------------------------------------\n",
    "\n",
    "# Fitting Random Forest Classification to the Training set\n",
    "from sklearn.ensemble import RandomForestClassifier\n",
    "classifier = RandomForestClassifier(n_estimators = 100, criterion = 'entropy', random_state = 0)\n",
    "\n",
    "# Applying k-Fold Cross Validation\n",
    "from sklearn.model_selection import cross_val_score\n",
    "accuracies5 = cross_val_score(estimator = classifier, X=X , y=y , cv = 10)\n",
    "print(\"Random Forest:\\n Accuracy:\", accuracies5.mean(), \"+/-\", accuracies5.std())"
   ]
  },
  {
   "cell_type": "code",
   "execution_count": 21,
   "metadata": {},
   "outputs": [
    {
     "data": {
      "image/png": "[encoded data removed]",
      "text/plain": [
       "<Figure size 432x288 with 1 Axes>"
      ]
     },
     "metadata": {
      "needs_background": "light"
     },
     "output_type": "display_data"
    }
   ],
   "source": [
    "# Build the plot\n",
    "n=arange(len([\"K-NN\",\"Logistic Regression\",\"SVM\",\"Naive Bayes\",\"Random Forest\"]))\n",
    "m=[accuracies1.mean(),accuracies2.mean(),accuracies3.mean(),accuracies4.mean(),accuracies5.mean()]\n",
    "sd=[accuracies1.std(),accuracies2.std(),accuracies3.std(),accuracies4.std(),accuracies5.std()]\n",
    "for i in range (len(sd)):\n",
    "    m[i]*=100\n",
    "    sd[i]*=100\n",
    "fig, ax = plt.subplots()\n",
    "ax.bar(n, m, yerr=sd, align='center', alpha=0.5, ecolor='black', capsize=10)\n",
    "ax.set_ylabel('ACCURACY WITH STANDARD DEVIATION')\n",
    "ax.set_xticks(n)\n",
    "ax.set_xticklabels([\"K-NN\",\"Logistic Regression\",\"SVM\",\"Naive Bayes\",\"Random Forest\"])\n",
    "ax.set_title('RESULT')\n",
    "ax.yaxis.grid(True)\n",
    "\n",
    "# Save the figure and show\n",
    "plt.tight_layout()\n",
    "plt.savefig('bar_plot_with_error_bars.png')\n",
    "plt.show()"
   ]
  }
 ],
 "metadata": {
  "kernelspec": {
   "display_name": "Python 3",
   "language": "python",
   "name": "python3"
  },
  "language_info": {
   "codemirror_mode": {
    "name": "ipython",
    "version": 3
   },
   "file_extension": ".py",
   "mimetype": "text/x-python",
   "name": "python",
   "nbconvert_exporter": "python",
   "pygments_lexer": "ipython3",
   "version": "3.8.5"
  }
 },
 "nbformat": 4,
 "nbformat_minor": 4
}
